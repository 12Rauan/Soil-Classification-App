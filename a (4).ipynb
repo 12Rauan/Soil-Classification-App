{
  "cells": [
    {
      "cell_type": "markdown",
      "source": [
        "# Step 1: Import Required Libraries"
      ],
      "metadata": {
        "id": "16wwWo7GMtQu"
      }
    },
    {
      "cell_type": "code",
      "source": [
        "# Import necessary libraries for model training, data preprocessing, and evaluation\n",
        "import os\n",
        "import shutil\n",
        "import torch\n",
        "import torch.nn as nn\n",
        "import torchvision.models as models\n",
        "import torchvision.transforms as transforms\n",
        "from torch.utils.data import Dataset, DataLoader\n",
        "from torchvision.datasets import ImageFolder\n",
        "from sklearn.model_selection import train_test_split\n",
        "from sklearn.metrics import classification_report, confusion_matrix\n",
        "import matplotlib.pyplot as plt\n",
        "import seaborn as sns\n",
        "import zipfile\n",
        "from google.colab import files\n",
        "\n"
      ],
      "metadata": {
        "id": "FaSt-50yMs6Q"
      },
      "execution_count": 2,
      "outputs": []
    },
    {
      "cell_type": "markdown",
      "source": [
        "# Step 2: Define Data Preparation Functions"
      ],
      "metadata": {
        "id": "BwYGkjJ-M0f0"
      }
    },
    {
      "cell_type": "code",
      "source": [
        "uploaded = files.upload()"
      ],
      "metadata": {
        "colab": {
          "base_uri": "https://localhost:8080/",
          "height": 74
        },
        "id": "BdRpl4KxMz29",
        "outputId": "ced1a509-466c-4899-88e6-f4817c1d5a26"
      },
      "execution_count": 3,
      "outputs": [
        {
          "output_type": "display_data",
          "data": {
            "text/plain": [
              "<IPython.core.display.HTML object>"
            ],
            "text/html": [
              "\n",
              "     <input type=\"file\" id=\"files-142ee1c2-3d56-4214-8c02-f2a2fc0f1230\" name=\"files[]\" multiple disabled\n",
              "        style=\"border:none\" />\n",
              "     <output id=\"result-142ee1c2-3d56-4214-8c02-f2a2fc0f1230\">\n",
              "      Upload widget is only available when the cell has been executed in the\n",
              "      current browser session. Please rerun this cell to enable.\n",
              "      </output>\n",
              "      <script>// Copyright 2017 Google LLC\n",
              "//\n",
              "// Licensed under the Apache License, Version 2.0 (the \"License\");\n",
              "// you may not use this file except in compliance with the License.\n",
              "// You may obtain a copy of the License at\n",
              "//\n",
              "//      http://www.apache.org/licenses/LICENSE-2.0\n",
              "//\n",
              "// Unless required by applicable law or agreed to in writing, software\n",
              "// distributed under the License is distributed on an \"AS IS\" BASIS,\n",
              "// WITHOUT WARRANTIES OR CONDITIONS OF ANY KIND, either express or implied.\n",
              "// See the License for the specific language governing permissions and\n",
              "// limitations under the License.\n",
              "\n",
              "/**\n",
              " * @fileoverview Helpers for google.colab Python module.\n",
              " */\n",
              "(function(scope) {\n",
              "function span(text, styleAttributes = {}) {\n",
              "  const element = document.createElement('span');\n",
              "  element.textContent = text;\n",
              "  for (const key of Object.keys(styleAttributes)) {\n",
              "    element.style[key] = styleAttributes[key];\n",
              "  }\n",
              "  return element;\n",
              "}\n",
              "\n",
              "// Max number of bytes which will be uploaded at a time.\n",
              "const MAX_PAYLOAD_SIZE = 100 * 1024;\n",
              "\n",
              "function _uploadFiles(inputId, outputId) {\n",
              "  const steps = uploadFilesStep(inputId, outputId);\n",
              "  const outputElement = document.getElementById(outputId);\n",
              "  // Cache steps on the outputElement to make it available for the next call\n",
              "  // to uploadFilesContinue from Python.\n",
              "  outputElement.steps = steps;\n",
              "\n",
              "  return _uploadFilesContinue(outputId);\n",
              "}\n",
              "\n",
              "// This is roughly an async generator (not supported in the browser yet),\n",
              "// where there are multiple asynchronous steps and the Python side is going\n",
              "// to poll for completion of each step.\n",
              "// This uses a Promise to block the python side on completion of each step,\n",
              "// then passes the result of the previous step as the input to the next step.\n",
              "function _uploadFilesContinue(outputId) {\n",
              "  const outputElement = document.getElementById(outputId);\n",
              "  const steps = outputElement.steps;\n",
              "\n",
              "  const next = steps.next(outputElement.lastPromiseValue);\n",
              "  return Promise.resolve(next.value.promise).then((value) => {\n",
              "    // Cache the last promise value to make it available to the next\n",
              "    // step of the generator.\n",
              "    outputElement.lastPromiseValue = value;\n",
              "    return next.value.response;\n",
              "  });\n",
              "}\n",
              "\n",
              "/**\n",
              " * Generator function which is called between each async step of the upload\n",
              " * process.\n",
              " * @param {string} inputId Element ID of the input file picker element.\n",
              " * @param {string} outputId Element ID of the output display.\n",
              " * @return {!Iterable<!Object>} Iterable of next steps.\n",
              " */\n",
              "function* uploadFilesStep(inputId, outputId) {\n",
              "  const inputElement = document.getElementById(inputId);\n",
              "  inputElement.disabled = false;\n",
              "\n",
              "  const outputElement = document.getElementById(outputId);\n",
              "  outputElement.innerHTML = '';\n",
              "\n",
              "  const pickedPromise = new Promise((resolve) => {\n",
              "    inputElement.addEventListener('change', (e) => {\n",
              "      resolve(e.target.files);\n",
              "    });\n",
              "  });\n",
              "\n",
              "  const cancel = document.createElement('button');\n",
              "  inputElement.parentElement.appendChild(cancel);\n",
              "  cancel.textContent = 'Cancel upload';\n",
              "  const cancelPromise = new Promise((resolve) => {\n",
              "    cancel.onclick = () => {\n",
              "      resolve(null);\n",
              "    };\n",
              "  });\n",
              "\n",
              "  // Wait for the user to pick the files.\n",
              "  const files = yield {\n",
              "    promise: Promise.race([pickedPromise, cancelPromise]),\n",
              "    response: {\n",
              "      action: 'starting',\n",
              "    }\n",
              "  };\n",
              "\n",
              "  cancel.remove();\n",
              "\n",
              "  // Disable the input element since further picks are not allowed.\n",
              "  inputElement.disabled = true;\n",
              "\n",
              "  if (!files) {\n",
              "    return {\n",
              "      response: {\n",
              "        action: 'complete',\n",
              "      }\n",
              "    };\n",
              "  }\n",
              "\n",
              "  for (const file of files) {\n",
              "    const li = document.createElement('li');\n",
              "    li.append(span(file.name, {fontWeight: 'bold'}));\n",
              "    li.append(span(\n",
              "        `(${file.type || 'n/a'}) - ${file.size} bytes, ` +\n",
              "        `last modified: ${\n",
              "            file.lastModifiedDate ? file.lastModifiedDate.toLocaleDateString() :\n",
              "                                    'n/a'} - `));\n",
              "    const percent = span('0% done');\n",
              "    li.appendChild(percent);\n",
              "\n",
              "    outputElement.appendChild(li);\n",
              "\n",
              "    const fileDataPromise = new Promise((resolve) => {\n",
              "      const reader = new FileReader();\n",
              "      reader.onload = (e) => {\n",
              "        resolve(e.target.result);\n",
              "      };\n",
              "      reader.readAsArrayBuffer(file);\n",
              "    });\n",
              "    // Wait for the data to be ready.\n",
              "    let fileData = yield {\n",
              "      promise: fileDataPromise,\n",
              "      response: {\n",
              "        action: 'continue',\n",
              "      }\n",
              "    };\n",
              "\n",
              "    // Use a chunked sending to avoid message size limits. See b/62115660.\n",
              "    let position = 0;\n",
              "    do {\n",
              "      const length = Math.min(fileData.byteLength - position, MAX_PAYLOAD_SIZE);\n",
              "      const chunk = new Uint8Array(fileData, position, length);\n",
              "      position += length;\n",
              "\n",
              "      const base64 = btoa(String.fromCharCode.apply(null, chunk));\n",
              "      yield {\n",
              "        response: {\n",
              "          action: 'append',\n",
              "          file: file.name,\n",
              "          data: base64,\n",
              "        },\n",
              "      };\n",
              "\n",
              "      let percentDone = fileData.byteLength === 0 ?\n",
              "          100 :\n",
              "          Math.round((position / fileData.byteLength) * 100);\n",
              "      percent.textContent = `${percentDone}% done`;\n",
              "\n",
              "    } while (position < fileData.byteLength);\n",
              "  }\n",
              "\n",
              "  // All done.\n",
              "  yield {\n",
              "    response: {\n",
              "      action: 'complete',\n",
              "    }\n",
              "  };\n",
              "}\n",
              "\n",
              "scope.google = scope.google || {};\n",
              "scope.google.colab = scope.google.colab || {};\n",
              "scope.google.colab._files = {\n",
              "  _uploadFiles,\n",
              "  _uploadFilesContinue,\n",
              "};\n",
              "})(self);\n",
              "</script> "
            ]
          },
          "metadata": {}
        },
        {
          "output_type": "stream",
          "name": "stdout",
          "text": [
            "Saving Soil types.zip to Soil types.zip\n"
          ]
        }
      ]
    },
    {
      "cell_type": "code",
      "source": [
        "with zipfile.ZipFile(\"Soil types.zip\", 'r') as zip_ref:\n",
        "    zip_ref.extractall(\"dataset\")\n",
        "\n",
        "# List the extracted files to verify\n",
        "print(os.listdir(\"dataset\"))"
      ],
      "metadata": {
        "colab": {
          "base_uri": "https://localhost:8080/"
        },
        "id": "gQRGOf1XM7bk",
        "outputId": "1a8623ad-b714-4d40-be11-b2ae3e65ff23"
      },
      "execution_count": 4,
      "outputs": [
        {
          "output_type": "stream",
          "name": "stdout",
          "text": [
            "['Soil types']\n"
          ]
        }
      ]
    },
    {
      "cell_type": "code",
      "source": [
        "# Function to split dataset into train, validation, and test sets\n",
        "def create_train_val_test_splits(source_dir, train_dir, val_dir, test_dir, val_split=0.2, test_split=0.1, random_state=42):\n",
        "    # Create directories for train, validation, and test splits\n",
        "    os.makedirs(train_dir, exist_ok=True)\n",
        "    os.makedirs(val_dir, exist_ok=True)\n",
        "    os.makedirs(test_dir, exist_ok=True)\n",
        "\n",
        "    # Define class names for the dataset\n",
        "    classes = ['Black Soil', 'Cinder Soil', 'Laterite Soil', 'Yellow Soil']\n",
        "\n",
        "    for class_name in classes:\n",
        "        # Create class-specific directories\n",
        "        train_class_dir = os.path.join(train_dir, class_name.replace(' ', '_'))\n",
        "        val_class_dir = os.path.join(val_dir, class_name.replace(' ', '_'))\n",
        "        test_class_dir = os.path.join(test_dir, class_name.replace(' ', '_'))\n",
        "        os.makedirs(train_class_dir, exist_ok=True)\n",
        "        os.makedirs(val_class_dir, exist_ok=True)\n",
        "        os.makedirs(test_class_dir, exist_ok=True)\n",
        "\n",
        "        # Get all images for this class\n",
        "        class_dir = os.path.join(source_dir, class_name.replace(' ', '_'))\n",
        "        if not os.path.exists(class_dir):\n",
        "            print(f\"Warning: Directory {class_dir} not found\")\n",
        "            continue\n",
        "\n",
        "        images = [f for f in os.listdir(class_dir)\n",
        "                 if f.lower().endswith(('.png', '.jpg', '.jpeg', '.bmp'))]\n",
        "\n",
        "        if not images:\n",
        "            print(f\"Warning: No images found in {class_dir}\")\n",
        "            continue\n",
        "\n",
        "        # Split into train, test, and validation\n",
        "        train_images, test_images = train_test_split(images, test_size=test_split, random_state=random_state, shuffle=True)\n",
        "        train_images, val_images = train_test_split(train_images, test_size=val_split, random_state=random_state, shuffle=True)\n",
        "\n",
        "        # Copy images to respective directories\n",
        "        for img in train_images:\n",
        "            shutil.copy2(os.path.join(class_dir, img), os.path.join(train_class_dir, img))\n",
        "\n",
        "        for img in val_images:\n",
        "            shutil.copy2(os.path.join(class_dir, img), os.path.join(val_class_dir, img))\n",
        "\n",
        "        for img in test_images:\n",
        "            shutil.copy2(os.path.join(class_dir, img), os.path.join(test_class_dir, img))\n",
        "\n",
        "        print(f\"{class_name}:\")\n",
        "        print(f\"  Total images: {len(images)}\")\n",
        "        print(f\"  Training images: {len(train_images)}\")\n",
        "        print(f\"  Validation images: {len(val_images)}\")\n",
        "        print(f\"  Testing images: {len(test_images)}\")\n",
        "\n",
        "# Function to display dataset statistics\n",
        "def display_dataset_stats(data_dir):\n",
        "    classes = os.listdir(data_dir)\n",
        "    print(f\"\\nDataset statistics for {data_dir}:\")\n",
        "    total_images = 0\n",
        "\n",
        "    for class_name in classes:\n",
        "        class_dir = os.path.join(data_dir, class_name)\n",
        "        if os.path.isdir(class_dir):\n",
        "            num_images = len([f for f in os.listdir(class_dir)\n",
        "                            if f.lower().endswith(('.png', '.jpg', '.jpeg', '.bmp'))])\n",
        "            print(f\"{class_name}: {num_images} images\")\n",
        "            total_images += num_images\n",
        "\n",
        "    print(f\"Total images: {total_images}\")\n"
      ],
      "metadata": {
        "id": "Y-mDupbbM7xu"
      },
      "execution_count": 5,
      "outputs": []
    },
    {
      "cell_type": "markdown",
      "source": [
        "# Step 3: Prepare Data Splits"
      ],
      "metadata": {
        "id": "q-nQytuyNC-B"
      }
    },
    {
      "cell_type": "code",
      "source": [
        "# Define dataset directories\n",
        "source_directory = \"dataset/Soil types\"\n",
        "train_directory = \"data/train\"\n",
        "val_directory = \"data/val\"\n",
        "test_directory = \"data/test\"\n",
        "\n",
        "# Split data into train, validation, and test sets\n",
        "create_train_val_test_splits(\n",
        "    source_dir=source_directory,\n",
        "    train_dir=train_directory,\n",
        "    val_dir=val_directory,\n",
        "    test_dir=test_directory,\n",
        "    val_split=0.2,\n",
        "    test_split=0.1\n",
        ")\n",
        "\n",
        "# Display dataset statistics for each split\n",
        "print(\"\\nTraining Dataset:\")\n",
        "display_dataset_stats(train_directory)\n",
        "print(\"\\nValidation Dataset:\")\n",
        "display_dataset_stats(val_directory)\n",
        "print(\"\\nTesting Dataset:\")\n",
        "display_dataset_stats(test_directory)\n"
      ],
      "metadata": {
        "colab": {
          "base_uri": "https://localhost:8080/"
        },
        "id": "d1N0melsNFfE",
        "outputId": "6e155126-d497-4b79-d320-9eba47542530"
      },
      "execution_count": 6,
      "outputs": [
        {
          "output_type": "stream",
          "name": "stdout",
          "text": [
            "Black Soil:\n",
            "  Total images: 37\n",
            "  Training images: 26\n",
            "  Validation images: 7\n",
            "  Testing images: 4\n",
            "Cinder Soil:\n",
            "  Total images: 30\n",
            "  Training images: 21\n",
            "  Validation images: 6\n",
            "  Testing images: 3\n",
            "Laterite Soil:\n",
            "  Total images: 30\n",
            "  Training images: 21\n",
            "  Validation images: 6\n",
            "  Testing images: 3\n",
            "Yellow Soil:\n",
            "  Total images: 29\n",
            "  Training images: 20\n",
            "  Validation images: 6\n",
            "  Testing images: 3\n",
            "\n",
            "Training Dataset:\n",
            "\n",
            "Dataset statistics for data/train:\n",
            "Cinder_Soil: 21 images\n",
            "Black_Soil: 26 images\n",
            "Laterite_Soil: 21 images\n",
            "Yellow_Soil: 20 images\n",
            "Total images: 88\n",
            "\n",
            "Validation Dataset:\n",
            "\n",
            "Dataset statistics for data/val:\n",
            "Cinder_Soil: 6 images\n",
            "Black_Soil: 7 images\n",
            "Laterite_Soil: 6 images\n",
            "Yellow_Soil: 6 images\n",
            "Total images: 25\n",
            "\n",
            "Testing Dataset:\n",
            "\n",
            "Dataset statistics for data/test:\n",
            "Cinder_Soil: 3 images\n",
            "Black_Soil: 4 images\n",
            "Laterite_Soil: 3 images\n",
            "Yellow_Soil: 3 images\n",
            "Total images: 13\n"
          ]
        }
      ]
    },
    {
      "cell_type": "markdown",
      "source": [
        "# Step 4: Define Data Loaders\n"
      ],
      "metadata": {
        "id": "pTFgU6k5NONJ"
      }
    },
    {
      "cell_type": "code",
      "source": [
        "# Define transformations for training and validation\n",
        "train_transform = transforms.Compose([\n",
        "    transforms.Resize((224, 224)),\n",
        "    transforms.RandomHorizontalFlip(),\n",
        "    transforms.RandomRotation(10),\n",
        "    transforms.ColorJitter(brightness=0.3, contrast=0.3),\n",
        "    transforms.RandomResizedCrop(224, scale=(0.8, 1.0)),\n",
        "    transforms.ToTensor(),\n",
        "    transforms.Normalize(mean=[0.485, 0.456, 0.406], std=[0.229, 0.224, 0.225])\n",
        "])\n",
        "\n",
        "val_transform = transforms.Compose([\n",
        "    transforms.Resize((224, 224)),\n",
        "    transforms.ToTensor(),\n",
        "    transforms.Normalize(mean=[0.485, 0.456, 0.406], std=[0.229, 0.224, 0.225])\n",
        "])\n",
        "\n",
        "# Load datasets using ImageFolder\n",
        "train_data = ImageFolder(train_directory, transform=train_transform)\n",
        "val_data = ImageFolder(val_directory, transform=val_transform)\n",
        "test_data = ImageFolder(test_directory, transform=val_transform)\n",
        "\n",
        "# Create DataLoaders\n",
        "train_loader = DataLoader(train_data, batch_size=32, shuffle=True)\n",
        "val_loader = DataLoader(val_data, batch_size=32)\n",
        "test_loader = DataLoader(test_data, batch_size=32)\n"
      ],
      "metadata": {
        "id": "q7HM8PywNOir"
      },
      "execution_count": 7,
      "outputs": []
    },
    {
      "cell_type": "markdown",
      "source": [
        "# Step 5: Define Models"
      ],
      "metadata": {
        "id": "Xn-vqlRfNTEt"
      }
    },
    {
      "cell_type": "code",
      "source": [
        "# Baseline Model using ResNet50\n",
        "class BaselineModel(nn.Module):\n",
        "    def __init__(self, num_classes=4):\n",
        "        super(BaselineModel, self).__init__()\n",
        "        self.resnet = models.resnet50(pretrained=True)\n",
        "        for param in self.resnet.parameters():\n",
        "            param.requires_grad = False\n",
        "        self.resnet.fc = nn.Linear(self.resnet.fc.in_features, num_classes)\n",
        "\n",
        "    def forward(self, x):\n",
        "        return self.resnet(x)\n",
        "\n",
        "# Enhanced Model with additional layers\n",
        "class EnhancedModel(nn.Module):\n",
        "    def __init__(self, num_classes=4):\n",
        "        super(EnhancedModel, self).__init__()\n",
        "        self.resnet = models.resnet50(pretrained=True)\n",
        "        for param in list(self.resnet.parameters())[:-20]:\n",
        "            param.requires_grad = False\n",
        "        self.resnet.fc = nn.Sequential(\n",
        "            nn.Linear(self.resnet.fc.in_features, 512),\n",
        "            nn.BatchNorm1d(512),\n",
        "            nn.ReLU(),\n",
        "            nn.Dropout(0.5),\n",
        "            nn.Linear(512, 256),\n",
        "            nn.BatchNorm1d(256),\n",
        "            nn.ReLU(),\n",
        "            nn.Dropout(0.3),\n",
        "            nn.Linear(256, num_classes)\n",
        "        )\n",
        "\n",
        "    def forward(self, x):\n",
        "        return self.resnet(x)\n"
      ],
      "metadata": {
        "id": "jec_TxgFNScC"
      },
      "execution_count": 8,
      "outputs": []
    },
    {
      "cell_type": "markdown",
      "source": [
        "# Step 6: Train and Evaluate Models"
      ],
      "metadata": {
        "id": "jx1uYYCnNVOp"
      }
    },
    {
      "cell_type": "code",
      "source": [
        "# Training function\n",
        "def train_model(model, train_loader, val_loader, criterion, optimizer, num_epochs=10, device='cuda'):\n",
        "    model = model.to(device)\n",
        "    best_val_acc = 0\n",
        "    history = {'train_loss': [], 'train_acc': [], 'val_loss': [], 'val_acc': []}\n",
        "\n",
        "    for epoch in range(num_epochs):\n",
        "        # Training phase\n",
        "        model.train()\n",
        "        running_loss = 0.0\n",
        "        correct = 0\n",
        "        total = 0\n",
        "\n",
        "        for inputs, labels in train_loader:\n",
        "            inputs, labels = inputs.to(device), labels.to(device)\n",
        "            optimizer.zero_grad()\n",
        "            outputs = model(inputs)\n",
        "            loss = criterion(outputs, labels)\n",
        "            loss.backward()\n",
        "            optimizer.step()\n",
        "\n",
        "            running_loss += loss.item()\n",
        "            _, predicted = outputs.max(1)\n",
        "            total += labels.size(0)\n",
        "            correct += predicted.eq(labels).sum().item()\n",
        "\n",
        "        train_loss = running_loss / len(train_loader)\n",
        "        train_acc = 100. * correct / total\n",
        "\n",
        "        # Validation phase\n",
        "        model.eval()\n",
        "        val_loss = 0.0\n",
        "        correct = 0\n",
        "        total = 0\n",
        "\n",
        "        with torch.no_grad():\n",
        "            for inputs, labels in val_loader:\n",
        "                inputs, labels = inputs.to(device), labels.to(device)\n",
        "                outputs = model(inputs)\n",
        "                loss = criterion(outputs, labels)\n",
        "\n",
        "                val_loss += loss.item()\n",
        "                _, predicted = outputs.max(1)\n",
        "                total += labels.size(0)\n",
        "                correct += predicted.eq(labels).sum().item()\n",
        "\n",
        "        val_loss = val_loss / len(val_loader)\n",
        "        val_acc = 100. * correct / total\n",
        "\n",
        "        # Save history\n",
        "        history['train_loss'].append(train_loss)\n",
        "        history['train_acc'].append(train_acc)\n",
        "        history['val_loss'].append(val_loss)\n",
        "        history['val_acc'].append(val_acc)\n",
        "\n",
        "        print(f'Epoch {epoch+1}/{num_epochs}:')\n",
        "        print(f'Train Loss: {train_loss:.4f}, Train Acc: {train_acc:.2f}%')\n",
        "        print(f'Val Loss: {val_loss:.4f}, Val Acc: {val_acc:.2f}%')\n",
        "\n",
        "        # Save best model\n",
        "        if val_acc > best_val_acc:\n",
        "            best_val_acc = val_acc\n",
        "            torch.save(model.state_dict(), 'best_model.pth')\n",
        "\n",
        "    return history\n",
        "\n"
      ],
      "metadata": {
        "id": "vAsSLYH-NXOU"
      },
      "execution_count": 9,
      "outputs": []
    },
    {
      "cell_type": "code",
      "source": [
        "# Evaluation function\n",
        "def evaluate_model(model, test_loader, device='cuda'):\n",
        "    model.eval()\n",
        "    all_preds = []\n",
        "    all_labels = []\n",
        "\n",
        "    with torch.no_grad():\n",
        "        for inputs, labels in test_loader:\n",
        "            inputs, labels = inputs.to(device), labels.to(device)\n",
        "            outputs = model(inputs)\n",
        "            _, preds = outputs.max(1)\n",
        "            all_preds.extend(preds.cpu().numpy())\n",
        "            all_labels.extend(labels.cpu().numpy())\n",
        "\n",
        "    return classification_report(all_labels, all_preds), confusion_matrix(all_labels, all_preds)"
      ],
      "metadata": {
        "id": "zEmgPeRXNY6o"
      },
      "execution_count": 11,
      "outputs": []
    },
    {
      "cell_type": "code",
      "source": [
        "# Train the Baseline Model\n",
        "baseline_model = BaselineModel(num_classes=4)\n",
        "criterion = nn.CrossEntropyLoss()\n",
        "optimizer = torch.optim.Adam(baseline_model.parameters(), lr=0.001)\n",
        "\n",
        "baseline_history = train_model(\n",
        "    baseline_model,\n",
        "    train_loader,\n",
        "    val_loader,\n",
        "    criterion,\n",
        "    optimizer,\n",
        "    num_epochs=10\n",
        ")\n",
        "baseline_report, baseline_cm = evaluate_model(baseline_model, test_loader)"
      ],
      "metadata": {
        "colab": {
          "base_uri": "https://localhost:8080/"
        },
        "id": "Nw6snP4oNaJE",
        "outputId": "46f1de56-80bc-437d-ac2f-10b33c1b290f"
      },
      "execution_count": 21,
      "outputs": [
        {
          "output_type": "stream",
          "name": "stderr",
          "text": [
            "/usr/local/lib/python3.10/dist-packages/torchvision/models/_utils.py:208: UserWarning: The parameter 'pretrained' is deprecated since 0.13 and may be removed in the future, please use 'weights' instead.\n",
            "  warnings.warn(\n",
            "/usr/local/lib/python3.10/dist-packages/torchvision/models/_utils.py:223: UserWarning: Arguments other than a weight enum or `None` for 'weights' are deprecated since 0.13 and may be removed in the future. The current behavior is equivalent to passing `weights=ResNet50_Weights.IMAGENET1K_V1`. You can also use `weights=ResNet50_Weights.DEFAULT` to get the most up-to-date weights.\n",
            "  warnings.warn(msg)\n"
          ]
        },
        {
          "output_type": "stream",
          "name": "stdout",
          "text": [
            "Epoch 1/10:\n",
            "Train Loss: 1.5212, Train Acc: 22.73%\n",
            "Val Loss: 1.2754, Val Acc: 48.00%\n",
            "Epoch 2/10:\n",
            "Train Loss: 1.2419, Train Acc: 53.41%\n",
            "Val Loss: 1.2616, Val Acc: 48.00%\n",
            "Epoch 3/10:\n",
            "Train Loss: 1.1501, Train Acc: 54.55%\n",
            "Val Loss: 1.0243, Val Acc: 84.00%\n",
            "Epoch 4/10:\n",
            "Train Loss: 0.9588, Train Acc: 78.41%\n",
            "Val Loss: 0.8678, Val Acc: 80.00%\n",
            "Epoch 5/10:\n",
            "Train Loss: 0.8492, Train Acc: 72.73%\n",
            "Val Loss: 0.7637, Val Acc: 88.00%\n",
            "Epoch 6/10:\n",
            "Train Loss: 0.7020, Train Acc: 85.23%\n",
            "Val Loss: 0.6979, Val Acc: 88.00%\n",
            "Epoch 7/10:\n",
            "Train Loss: 0.6940, Train Acc: 82.95%\n",
            "Val Loss: 0.6592, Val Acc: 88.00%\n",
            "Epoch 8/10:\n",
            "Train Loss: 0.6601, Train Acc: 86.36%\n",
            "Val Loss: 0.5758, Val Acc: 92.00%\n",
            "Epoch 9/10:\n",
            "Train Loss: 0.5088, Train Acc: 92.05%\n",
            "Val Loss: 0.5036, Val Acc: 88.00%\n",
            "Epoch 10/10:\n",
            "Train Loss: 0.4808, Train Acc: 94.32%\n",
            "Val Loss: 0.4922, Val Acc: 88.00%\n"
          ]
        }
      ]
    },
    {
      "cell_type": "code",
      "source": [
        "# Train the Enhanced Model\n",
        "enhanced_model = EnhancedModel(num_classes=4)\n",
        "optimizer = torch.optim.Adam(enhanced_model.parameters(), lr=0.001)\n",
        "\n",
        "\n",
        "enhanced_history = train_model(\n",
        "    enhanced_model,\n",
        "    train_loader,\n",
        "    val_loader,\n",
        "    criterion,\n",
        "    optimizer,\n",
        "    num_epochs=10\n",
        ")\n",
        "enhanced_report, enhanced_cm = evaluate_model(enhanced_model, test_loader)"
      ],
      "metadata": {
        "colab": {
          "base_uri": "https://localhost:8080/"
        },
        "id": "KbVwj51kNbbM",
        "outputId": "6f2fcd9f-b2cf-4b17-b1fe-d3b291f66ef1"
      },
      "execution_count": 22,
      "outputs": [
        {
          "output_type": "stream",
          "name": "stderr",
          "text": [
            "/usr/local/lib/python3.10/dist-packages/torchvision/models/_utils.py:208: UserWarning: The parameter 'pretrained' is deprecated since 0.13 and may be removed in the future, please use 'weights' instead.\n",
            "  warnings.warn(\n",
            "/usr/local/lib/python3.10/dist-packages/torchvision/models/_utils.py:223: UserWarning: Arguments other than a weight enum or `None` for 'weights' are deprecated since 0.13 and may be removed in the future. The current behavior is equivalent to passing `weights=ResNet50_Weights.IMAGENET1K_V1`. You can also use `weights=ResNet50_Weights.DEFAULT` to get the most up-to-date weights.\n",
            "  warnings.warn(msg)\n"
          ]
        },
        {
          "output_type": "stream",
          "name": "stdout",
          "text": [
            "Epoch 1/10:\n",
            "Train Loss: 1.2385, Train Acc: 43.18%\n",
            "Val Loss: 1.1410, Val Acc: 40.00%\n",
            "Epoch 2/10:\n",
            "Train Loss: 0.4711, Train Acc: 88.64%\n",
            "Val Loss: 0.6518, Val Acc: 76.00%\n",
            "Epoch 3/10:\n",
            "Train Loss: 0.2878, Train Acc: 97.73%\n",
            "Val Loss: 0.2562, Val Acc: 96.00%\n",
            "Epoch 4/10:\n",
            "Train Loss: 0.1666, Train Acc: 96.59%\n",
            "Val Loss: 0.1364, Val Acc: 96.00%\n",
            "Epoch 5/10:\n",
            "Train Loss: 0.2142, Train Acc: 94.32%\n",
            "Val Loss: 0.1135, Val Acc: 96.00%\n",
            "Epoch 6/10:\n",
            "Train Loss: 0.0895, Train Acc: 98.86%\n",
            "Val Loss: 0.5222, Val Acc: 88.00%\n",
            "Epoch 7/10:\n",
            "Train Loss: 0.1316, Train Acc: 95.45%\n",
            "Val Loss: 0.2197, Val Acc: 96.00%\n",
            "Epoch 8/10:\n",
            "Train Loss: 0.1099, Train Acc: 98.86%\n",
            "Val Loss: 0.1547, Val Acc: 96.00%\n",
            "Epoch 9/10:\n",
            "Train Loss: 0.0601, Train Acc: 97.73%\n",
            "Val Loss: 0.2498, Val Acc: 96.00%\n",
            "Epoch 10/10:\n",
            "Train Loss: 0.0509, Train Acc: 100.00%\n",
            "Val Loss: 0.2968, Val Acc: 92.00%\n"
          ]
        }
      ]
    },
    {
      "cell_type": "markdown",
      "source": [
        "# Step 7: Visualize Training History"
      ],
      "metadata": {
        "id": "lMNZYHD8NeT5"
      }
    },
    {
      "cell_type": "code",
      "source": [
        "# Plot training history\n",
        "def plot_training_history(history):\n",
        "    plt.figure(figsize=(12, 4))\n",
        "\n",
        "    plt.subplot(1, 2, 1)\n",
        "    plt.plot(history['train_loss'], label='Train Loss')\n",
        "    plt.plot(history['val_loss'], label='Val Loss')\n",
        "    plt.title('Model Loss')\n",
        "    plt.xlabel('Epoch')\n",
        "    plt.ylabel('Loss')\n",
        "    plt.legend()\n",
        "\n",
        "    plt.subplot(1, 2, 2)\n",
        "    plt.plot(history['train_acc'], label='Train Acc')\n",
        "    plt.plot(history['val_acc'], label='Val Acc')\n",
        "    plt.title('Model Accuracy')\n",
        "    plt.xlabel('Epoch')\n",
        "    plt.ylabel('Accuracy (%)')\n",
        "    plt.legend()\n",
        "\n",
        "    plt.tight_layout()\n",
        "    plt.show()"
      ],
      "metadata": {
        "id": "RR_CL_6dNgDM"
      },
      "execution_count": 23,
      "outputs": []
    },
    {
      "cell_type": "code",
      "source": [
        "\n",
        "# Plot training history for both models\n",
        "plot_training_history(baseline_history)\n",
        "plot_training_history(enhanced_history)"
      ],
      "metadata": {
        "colab": {
          "base_uri": "https://localhost:8080/",
          "height": 797
        },
        "id": "ckPpUOfcNhjf",
        "outputId": "39d55533-0b89-4f9c-cfd0-c6f3dffd009c"
      },
      "execution_count": 24,
      "outputs": [
        {
          "output_type": "display_data",
          "data": {
            "text/plain": [
              "<Figure size 1200x400 with 2 Axes>"
            ],
            "image/png": "[encoded data removed]"
          },
          "metadata": {}
        },
        {
          "output_type": "display_data",
          "data": {
            "text/plain": [
              "<Figure size 1200x400 with 2 Axes>"
            ],
            "image/png": "[encoded data removed]"
          },
          "metadata": {}
        }
      ]
    },
    {
      "cell_type": "markdown",
      "source": [
        "# Step 8: Test the Enhanced Model and Generate Predictions"
      ],
      "metadata": {
        "id": "jbE1Ye5hOJjy"
      }
    },
    {
      "cell_type": "code",
      "source": [
        "# Evaluate the Enhanced Model on the Test Dataset\n",
        "def test_model(model, test_loader, device='cuda'):\n",
        "    model = model.to(device)\n",
        "    model.eval()  # Set model to evaluation mode\n",
        "\n",
        "    all_preds = []\n",
        "    all_labels = []\n",
        "\n",
        "    with torch.no_grad():\n",
        "        for inputs, labels in test_loader:\n",
        "            inputs, labels = inputs.to(device), labels.to(device)\n",
        "            outputs = model(inputs)\n",
        "            _, preds = torch.max(outputs, 1)\n",
        "            all_preds.extend(preds.cpu().numpy())\n",
        "            all_labels.extend(labels.cpu().numpy())\n",
        "\n",
        "    return all_labels, all_preds\n",
        "\n",
        "# Perform testing on the Enhanced Model\n",
        "all_labels, all_preds = test_model(enhanced_model, test_loader)\n",
        "\n",
        "# Classification Report\n",
        "print(\"\\nClassification Report for Enhanced Model:\")\n",
        "print(classification_report(all_labels, all_preds, target_names=test_data.classes))\n",
        "\n",
        "# Confusion Matrix\n",
        "def plot_confusion_matrix(cm, classes):\n",
        "    plt.figure(figsize=(8, 6))\n",
        "    sns.heatmap(cm, annot=True, fmt=\"d\", cmap=\"Blues\", xticklabels=classes, yticklabels=classes)\n",
        "    plt.title(\"Confusion Matrix\")\n",
        "    plt.ylabel(\"Actual\")\n",
        "    plt.xlabel(\"Predicted\")\n",
        "    plt.show()\n",
        "\n",
        "# Plot the Confusion Matrix\n",
        "cm = confusion_matrix(all_labels, all_preds)\n",
        "plot_confusion_matrix(cm, test_data.classes)\n",
        "\n",
        "# Example: Making Predictions on Individual Images\n",
        "def predict_image(image_path, model, transform, device='cuda'):\n",
        "    from PIL import Image\n",
        "    model = model.to(device)\n",
        "    model.eval()\n",
        "\n",
        "    # Load the image and apply transforms\n",
        "    image = Image.open(image_path).convert('RGB')\n",
        "    image_tensor = transform(image).unsqueeze(0).to(device)\n",
        "\n",
        "    # Perform prediction\n",
        "    with torch.no_grad():\n",
        "        output = model(image_tensor)\n",
        "        _, predicted_class = torch.max(output, 1)\n",
        "\n",
        "    class_idx = predicted_class.item()\n",
        "    return test_data.classes[class_idx]\n",
        "\n",
        "# Test prediction on a single image\n",
        "image_path = \"data/test/Cinder_Soil/13.jpg\"  # Example test image path\n",
        "predicted_class = predict_image(image_path, enhanced_model, val_transform)\n",
        "print(f\"Predicted Class for {image_path}: {predicted_class}\")\n"
      ],
      "metadata": {
        "colab": {
          "base_uri": "https://localhost:8080/",
          "height": 818
        },
        "id": "AERQfXhSN5x5",
        "outputId": "3f46ede0-e4c3-4d7f-a111-819be2780ce0"
      },
      "execution_count": 25,
      "outputs": [
        {
          "output_type": "stream",
          "name": "stdout",
          "text": [
            "\n",
            "Classification Report for Enhanced Model:\n",
            "               precision    recall  f1-score   support\n",
            "\n",
            "   Black_Soil       1.00      1.00      1.00         4\n",
            "  Cinder_Soil       1.00      0.67      0.80         3\n",
            "Laterite_Soil       0.75      1.00      0.86         3\n",
            "  Yellow_Soil       1.00      1.00      1.00         3\n",
            "\n",
            "     accuracy                           0.92        13\n",
            "    macro avg       0.94      0.92      0.91        13\n",
            " weighted avg       0.94      0.92      0.92        13\n",
            "\n"
          ]
        },
        {
          "output_type": "display_data",
          "data": {
            "text/plain": [
              "<Figure size 800x600 with 2 Axes>"
            ],
            "image/png": "[encoded data removed]"
          },
          "metadata": {}
        },
        {
          "output_type": "stream",
          "name": "stdout",
          "text": [
            "Predicted Class for data/test/Cinder_Soil/13.jpg: Cinder_Soil\n"
          ]
        }
      ]
    },
    {
      "cell_type": "code",
      "source": [
        "# Save the enhanced model\n",
        "torch.save(enhanced_model.state_dict(), \"enhanced_model.pth\")\n",
        "print(\"Enhanced model saved as 'enhanced_model.pth'.\")\n"
      ],
      "metadata": {
        "colab": {
          "base_uri": "https://localhost:8080/"
        },
        "id": "yBSurcTaODeA",
        "outputId": "e0f130de-e53f-427b-8297-b24250eaad59"
      },
      "execution_count": 19,
      "outputs": [
        {
          "output_type": "stream",
          "name": "stdout",
          "text": [
            "Enhanced model saved as 'enhanced_model.pth'.\n"
          ]
        }
      ]
    },
    {
      "cell_type": "code",
      "source": [
        "\n",
        "\n",
        "# Download the saved model file\n",
        "files.download(\"enhanced_model1.pth\")\n"
      ],
      "metadata": {
        "colab": {
          "base_uri": "https://localhost:8080/",
          "height": 34
        },
        "id": "vOCaMNyu4bSL",
        "outputId": "469fb63c-66fb-4910-bcc5-3d87f1877189"
      },
      "execution_count": 20,
      "outputs": [
        {
          "output_type": "display_data",
          "data": {
            "text/plain": [
              "<IPython.core.display.Javascript object>"
            ],
            "application/javascript": [
              "\n",
              "    async function download(id, filename, size) {\n",
              "      if (!google.colab.kernel.accessAllowed) {\n",
              "        return;\n",
              "      }\n",
              "      const div = document.createElement('div');\n",
              "      const label = document.createElement('label');\n",
              "      label.textContent = `Downloading \"${filename}\": `;\n",
              "      div.appendChild(label);\n",
              "      const progress = document.createElement('progress');\n",
              "      progress.max = size;\n",
              "      div.appendChild(progress);\n",
              "      document.body.appendChild(div);\n",
              "\n",
              "      const buffers = [];\n",
              "      let downloaded = 0;\n",
              "\n",
              "      const channel = await google.colab.kernel.comms.open(id);\n",
              "      // Send a message to notify the kernel that we're ready.\n",
              "      channel.send({})\n",
              "\n",
              "      for await (const message of channel.messages) {\n",
              "        // Send a message to notify the kernel that we're ready.\n",
              "        channel.send({})\n",
              "        if (message.buffers) {\n",
              "          for (const buffer of message.buffers) {\n",
              "            buffers.push(buffer);\n",
              "            downloaded += buffer.byteLength;\n",
              "            progress.value = downloaded;\n",
              "          }\n",
              "        }\n",
              "      }\n",
              "      const blob = new Blob(buffers, {type: 'application/binary'});\n",
              "      const a = document.createElement('a');\n",
              "      a.href = window.URL.createObjectURL(blob);\n",
              "      a.download = filename;\n",
              "      div.appendChild(a);\n",
              "      a.click();\n",
              "      div.remove();\n",
              "    }\n",
              "  "
            ]
          },
          "metadata": {}
        },
        {
          "output_type": "display_data",
          "data": {
            "text/plain": [
              "<IPython.core.display.Javascript object>"
            ],
            "application/javascript": [
              "download(\"download_3f635e0a-6bbf-4689-b4a8-33b241b90622\", \"enhanced_model.pth\", 99099092)"
            ]
          },
          "metadata": {}
        }
      ]
    }
  ],
  "metadata": {
    "kernelspec": {
      "display_name": "Python 3",
      "name": "python3"
    },
    "language_info": {
      "codemirror_mode": {
        "name": "ipython",
        "version": 3
      },
      "file_extension": ".py",
      "mimetype": "text/x-python",
      "name": "python",
      "nbconvert_exporter": "python",
      "pygments_lexer": "ipython3",
      "version": "3.11.7"
    },
    "colab": {
      "provenance": [],
      "gpuType": "T4"
    },
    "accelerator": "GPU"
  },
  "nbformat": 4,
  "nbformat_minor": 0
}